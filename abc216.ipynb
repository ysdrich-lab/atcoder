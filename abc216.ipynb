{
 "cells": [
  {
   "cell_type": "markdown",
   "id": "f4d15c31-bb6a-4bef-bf86-db08610c1079",
   "metadata": {},
   "source": [
    "# A - Signed Difficulty \n",
    "https://atcoder.jp/contests/abc216/tasks/abc216_a\n",
    "## 問題文\n",
    "\n",
    "> 実数 $X.Y$ が与えられます。ただし $Y$ はちょうど 1 桁です。\n",
    "> \n",
    "> $0 \\leqq Y \\leqq 2 $ ならば、$X-$  \n",
    "> $3 \\leqq Y \\leqq 6$ ならば、$X$  \n",
    "> $7 \\leqq Y \\leqq 9$ ならば、$X+$  \n",
    "> と出力してください。  \n",
    "\n",
    "## 制約\n",
    "\n",
    "> $1 \\leqq X \\leqq 15$  \n",
    "> $0 \\leqq Y \\leqq 9$  \n",
    "> $X$ と $Y$ は整数  \n",
    "\n",
    "## 入力\n",
    "\n",
    "> $X.Y$"
   ]
  },
  {
   "cell_type": "markdown",
   "id": "32f220ef-f27e-4aa0-9608-b151017ecaeb",
   "metadata": {
    "tags": []
   },
   "source": [
    "## 要点\n",
    "### 入力形式\n",
    "* $X.Y$を文字列として入力し、「.」で区切って分岐する\n",
    "\n",
    "### 分岐\n",
    "* リストで投げたのちょっとダサかったですね。"
   ]
  },
  {
   "cell_type": "code",
   "execution_count": 2,
   "id": "5e9259a1-00f7-4c66-adff-5505fd837cfb",
   "metadata": {},
   "outputs": [
    {
     "name": "stdin",
     "output_type": "stream",
     "text": [
      " 15.8\n"
     ]
    },
    {
     "name": "stdout",
     "output_type": "stream",
     "text": [
      "15+\n"
     ]
    }
   ],
   "source": [
    "# before\n",
    "X,Y = map(int,input().split('.'))\n",
    " \n",
    "if Y in [0,1,2]:\n",
    "    print(str(X) + '-')\n",
    "elif Y in [3,4,5,6]:\n",
    "    print(X)\n",
    "else:\n",
    "    print(str(X) + '+')"
   ]
  },
  {
   "cell_type": "code",
   "execution_count": null,
   "id": "9abdb180-2fe1-4c2a-b45d-5b2cd73cd7cf",
   "metadata": {},
   "outputs": [],
   "source": [
    "# after\n",
    "X,Y = map(int,input().split('.')) #　splitの区切りを'.'にして、X,Yどちらもintで受け取る\n",
    "\n",
    "if 0 <= Y <= 2: # 分岐条件ちゃんと書こうね\n",
    "    ans = str(X) + '-'\n",
    "elif 3 <= Y <= 6:\n",
    "    ans = X\n",
    "else:\n",
    "    ans = str(X) + '+'\n",
    "\n",
    "print(ans)\n"
   ]
  },
  {
   "cell_type": "markdown",
   "id": "ff58c1d2-7b58-4a61-a97f-e6e96e2264a3",
   "metadata": {},
   "source": [
    "# B - Same Name \n",
    "https://atcoder.jp/contests/abc216/tasks/abc216_b\n",
    "## 問題文\n",
    "\n",
    "> $N$人の人がいます。$i(1 \\leqq i \\leqq N)$人目の人の姓は $S_i$、名は $T_i$です。\n",
    "> \n",
    "> 同姓同名であるような人の組が存在するか、\n",
    "> \n",
    "> すなわち $1≤i<j≤N$かつ$S_i=S_j$かつ$T_i=T_j$を満たすような整数対$(i,j)$が存在するか判定してください。\n",
    "\n",
    "## 制約\n",
    "\n",
    "> * $2 \\leqq N \\leqq 1000$\n",
    "> * $N$は整数\n",
    "> * $S_i,T_i$は英小文字のみからなる長さ$1以上10$以下の文字列\n",
    "\n",
    "\n",
    "## 入力\n",
    "\n",
    "> $N$\n",
    ">\n",
    "> $S_1$ $T_1$\n",
    "> \n",
    "> $S_2$ $T_2$\n",
    ">  \n",
    "> $\\vdots$\n",
    "> \n",
    "> $S_N$ $T_N$\n",
    "\n"
   ]
  },
  {
   "cell_type": "markdown",
   "id": "0d505743-60b9-493c-91c7-cd977bc3b3d7",
   "metadata": {},
   "source": [
    "## 要点\n",
    "\n",
    "### S,Tを直接繋げてはいけない\n",
    "\n",
    "* tanaka tarou\n",
    "* tana katarou\n",
    "* これら2名が同じ名前としてカウントされてしまうため、名字と名前の間に何かしらの区切りを入れてあげる必要がある。\n",
    "* 数字でもアルファベット大文字でも良。\n",
    "* 今回はタプルで対応。\n",
    "\n",
    "### 重複判定\n",
    "\n",
    "* setを使って重複を消した状態の要素数＝元の要素数であれば、元から重複は無かった。\n",
    "* もしsetの要素数!=元の要素数であれば、重複している名前が存在した。"
   ]
  },
  {
   "cell_type": "code",
   "execution_count": null,
   "id": "fd6225d1-49ca-45fd-9016-00fa63423aa1",
   "metadata": {},
   "outputs": [],
   "source": [
    "N = int(input())\n",
    "l = []\n",
    "for i in range(N):\n",
    "    S,T = map(str,input().split())\n",
    "    l.append((S,T))\n",
    "\n",
    "s = set(l)\n",
    " \n",
    "if len(s) == N:\n",
    "    print('No')\n",
    "else:\n",
    "    print('Yes')"
   ]
  },
  {
   "cell_type": "markdown",
   "id": "3151bad9-4950-4f59-80e2-8bcf78c8064f",
   "metadata": {},
   "source": [
    "# C - Many Balls\n",
    "https://atcoder.jp/contests/abc216/tasks/abc216_c\n",
    "## 問題文\n",
    "\n",
    "> 空の箱があります。\n",
    "> \n",
    "> 髙橋君は以下の$2$種類の魔法を好きな順番で好きな回数使えます。\n",
    "> \n",
    "> * 魔法$A$：箱の中にボールを$1$つ増やす  \n",
    "> * 魔法$B$：箱の中のボールの数を$2$倍にする\n",
    "> \n",
    "> 合計$120$回以内の魔法で、箱の中のボールの数をちょうど$N$個にする方法を$1$つ教えてください。  \n",
    "> なお、与えられた制約のもとで条件を満たす方法が必ず存在することが示せます。\n",
    "> \n",
    "> 魔法以外の方法でボールの数を変化させることはできません。\n",
    "\n",
    "## 制約\n",
    "\n",
    "> * $1 \\leqq N \\leqq 10^{18}$\n",
    "> * 入力は全て整数\n",
    "\n",
    "## 入力\n",
    "\n",
    "> $N$"
   ]
  },
  {
   "cell_type": "markdown",
   "id": "50ae78fe-0346-4aa0-a974-631df29f2a4f",
   "metadata": {},
   "source": [
    "## 要点\n",
    "\n",
    "### 前から考えてはいけない\n",
    "\n",
    "* 最初前から考えたことによりTLE。もったいない。\n",
    "* 問題文より「合計120回以内」の条件があるので、前からボールを増やしていくと、$2^n - 1$の時に間に合わなくなる。\n",
    "* 8191とか。\n",
    "\n",
    "### whileやめた方が良いのでは\n",
    "\n",
    "* 一応break入れているとはいえ、この問題の場合120回までの魔法で条件を満たす方法が存在するため、\n",
    "* 120回までのループで良いのでは。"
   ]
  },
  {
   "cell_type": "code",
   "execution_count": null,
   "id": "386a628e-769a-44c4-a085-3d4a7987f7d3",
   "metadata": {},
   "outputs": [],
   "source": [
    "# before\n",
    "from collections import deque\n",
    "N = int(input())\n",
    " \n",
    "# スタート時に1個入れる\n",
    "ans_l_left = ['A'] # 使わなかった変数消そうね\n",
    "ans_d_right = deque() #listでも行けた感ある\n",
    "balls = 1\n",
    "while True: # forの方が良いのでは\n",
    " \n",
    "    if N == 1:\n",
    "        break\n",
    " \n",
    " \n",
    "    if N%2 == 0:\n",
    "        ans_d_right.appendleft('B')\n",
    "        N = N//2\n",
    "    else:\n",
    "        ans_d_right.appendleft('A')\n",
    "        N = N - 1\n",
    " \n",
    "ans_d_right.appendleft('A')\n",
    "print(''.join(ans_d_right))"
   ]
  },
  {
   "cell_type": "code",
   "execution_count": null,
   "id": "9432a516-152b-477c-ad7a-75986f736205",
   "metadata": {},
   "outputs": [],
   "source": [
    "# after\n",
    "N = int(input())\n",
    "\n",
    "ans_l = []\n",
    "balls = 0\n",
    "\n",
    "for i in range(120):\n",
    "    if N == 0:  # 初期値を入れてないため、Nが0になったら終了\n",
    "        break\n",
    "\n",
    "    if N % 2 == 0:  # 目標までの個数が偶数であるならば、魔法Bを使う\n",
    "        ans_l.append('B')  \n",
    "        N = N//2  # 一応2で割った整数部\n",
    "    else:\n",
    "        ans_l.append('A')\n",
    "        N -= 1\n",
    "\n",
    "ans_l.reverse() # 最後に使った魔法から順に記載したため、reverseで逆転\n",
    "print(''.join(ans_l))\n"
   ]
  },
  {
   "cell_type": "code",
   "execution_count": null,
   "id": "2e8f5c5a-8119-43d0-b556-8c54af27061c",
   "metadata": {},
   "outputs": [],
   "source": []
  },
  {
   "cell_type": "code",
   "execution_count": null,
   "id": "36e6bcdd-04a0-4580-93b4-a69f8c13102b",
   "metadata": {},
   "outputs": [],
   "source": []
  },
  {
   "cell_type": "code",
   "execution_count": null,
   "id": "2b6f08f6-0313-4a7f-b9c5-79ed8316f112",
   "metadata": {},
   "outputs": [],
   "source": []
  },
  {
   "cell_type": "code",
   "execution_count": null,
   "id": "0bb3efbe-4fed-4b1c-9b6d-ca0b0f57dca1",
   "metadata": {},
   "outputs": [],
   "source": []
  },
  {
   "cell_type": "code",
   "execution_count": null,
   "id": "f249481c-b4e6-4352-b6f1-f872f43529ad",
   "metadata": {},
   "outputs": [],
   "source": []
  }
 ],
 "metadata": {
  "kernelspec": {
   "display_name": "Python 3 (ipykernel)",
   "language": "python",
   "name": "python3"
  },
  "language_info": {
   "codemirror_mode": {
    "name": "ipython",
    "version": 3
   },
   "file_extension": ".py",
   "mimetype": "text/x-python",
   "name": "python",
   "nbconvert_exporter": "python",
   "pygments_lexer": "ipython3",
   "version": "3.9.6"
  }
 },
 "nbformat": 4,
 "nbformat_minor": 5
}
