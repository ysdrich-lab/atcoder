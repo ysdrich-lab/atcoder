{
 "cells": [
  {
   "cell_type": "markdown",
   "id": "f4d15c31-bb6a-4bef-bf86-db08610c1079",
   "metadata": {},
   "source": [
    "# A - Weather Forecast\n",
    "https://atcoder.jp/contests/abc218/tasks/abc218_a"
   ]
  },
  {
   "cell_type": "markdown",
   "id": "32f220ef-f27e-4aa0-9608-b151017ecaeb",
   "metadata": {
    "tags": []
   },
   "source": [
    "## 文字列のスライス\n",
    "* $S[i]$で、$i+1$文字目が抽出できる\n",
    "* 0indexなので注意\n",
    "* 後はif文で条件に従ってあげる。\n"
   ]
  },
  {
   "cell_type": "code",
   "execution_count": null,
   "id": "5e9259a1-00f7-4c66-adff-5505fd837cfb",
   "metadata": {},
   "outputs": [],
   "source": [
    "N = int(input())\n",
    "S = input()\n",
    " \n",
    "if S[N-1] == 'o':\n",
    "    print('Yes')\n",
    "else:\n",
    "    print('No')"
   ]
  },
  {
   "cell_type": "markdown",
   "id": "ff58c1d2-7b58-4a61-a97f-e6e96e2264a3",
   "metadata": {},
   "source": [
    "# B - qwerty\n",
    "https://atcoder.jp/contests/abc218/tasks/abc218_b"
   ]
  },
  {
   "cell_type": "markdown",
   "id": "0d505743-60b9-493c-91c7-cd977bc3b3d7",
   "metadata": {},
   "source": [
    "## chr関数\n",
    "* 数字→文字列はchr関数でこなすとお洒落\n",
    "    * chr(i)で、Unicodeコードポイントである文字が文字列strで返される\n",
    "    * 反対向きの変換はord(s)\n",
    "    * https://note.nkmk.me/python-chr-ord-unicode-code-point/\n",
    "    * 'a'はchr(97)\n",
    "    * chr(96 + i)で、iを1~26で当ててあげれば良いね\n"
   ]
  },
  {
   "cell_type": "code",
   "execution_count": null,
   "id": "65bf40d7-a376-4abb-917d-d13bb81e152d",
   "metadata": {},
   "outputs": [],
   "source": [
    "#before\n",
    "L = list(map(int,input().split()))\n",
    " \n",
    "base_l = ['a']\n",
    "base_l.append('b')\n",
    "base_l.append('c')\n",
    "base_l.append('d')\n",
    "base_l.append('e')\n",
    "base_l.append('f')\n",
    "base_l.append('g')\n",
    "base_l.append('h')\n",
    "base_l.append('i')\n",
    "base_l.append('j')\n",
    "base_l.append('k')\n",
    "base_l.append('l')\n",
    "base_l.append('m')\n",
    "base_l.append('n')\n",
    "base_l.append('o')\n",
    "base_l.append('p')\n",
    "base_l.append('q')\n",
    "base_l.append('r')\n",
    "base_l.append('s')\n",
    "base_l.append('t')\n",
    "base_l.append('u')\n",
    "base_l.append('v')\n",
    "base_l.append('w')\n",
    "base_l.append('x')\n",
    "base_l.append('y')\n",
    "base_l.append('z')\n",
    "ans = ''\n",
    "for i in L:\n",
    "    ans += base_l[i-1]\n",
    "print(ans)"
   ]
  },
  {
   "cell_type": "code",
   "execution_count": null,
   "id": "5393586e-3398-4fdb-9b40-546a04e332eb",
   "metadata": {},
   "outputs": [],
   "source": [
    "# after\n",
    "L = list(map(int,input().split()))\n",
    "ans = ''\n",
    "for i in L:\n",
    "    ans += chr(96 + i)\n",
    "print(ans)"
   ]
  },
  {
   "cell_type": "markdown",
   "id": "3151bad9-4950-4f59-80e2-8bcf78c8064f",
   "metadata": {},
   "source": [
    "# C - Shapes\n",
    "https://atcoder.jp/contests/abc218/tasks/abc218_c"
   ]
  },
  {
   "cell_type": "markdown",
   "id": "50ae78fe-0346-4aa0-a974-631df29f2a4f",
   "metadata": {},
   "source": [
    "## 平行移動の話\n",
    "\n",
    "* 回転が不要な状態で、図形Sを平行移動を繰り返した時に図形Tと一致するか否かを考える\n",
    "* 縦横に並行移動する必要がある？\n",
    "    * グリッド上にあるS、Tの場所がズレているなら、平行移動する必要がある\n",
    "        * 場所がズレている＝図形S、Tの上下左右に存在する、'#'の含まれていない行の数が異なっている\n",
    "    * つまり、図形S、Tの上下左右に存在する、'#'の含まれていない行を全て削れば図形は一致する筈\n",
    "\n",
    "## 回転の話\n",
    "* numpyのrot90でかんたんに90度回転できる"
   ]
  },
  {
   "cell_type": "code",
   "execution_count": null,
   "id": "9432a516-152b-477c-ad7a-75986f736205",
   "metadata": {},
   "outputs": [],
   "source": [
    "import numpy as np\n",
    "\n",
    "# 入力\n",
    "N = int(input())\n",
    "\n",
    "# Sの入力\n",
    "S_l = []\n",
    "for i in range(N):\n",
    "    tmp = input()\n",
    "    S_l.append(list(tmp))\n",
    "S_array = np.array(S_l)\n",
    "\n",
    "# Tの入力\n",
    "T_l = []\n",
    "for i in range(N):\n",
    "    tmp = input()\n",
    "    T_l.append(list(tmp))\n",
    "T_array = np.array(T_l)\n",
    "\n",
    "# S,Tどちらも上から使ってない行を削除する。削除が終わったら90度回転して、また上から削除。\n",
    "for i in range(4):\n",
    "    for i in range(N):  # S削除パート\n",
    "        if '#' in S_array[0]:\n",
    "            break\n",
    "        S_array = np.delete(S_array, 0, 0)\n",
    "    S_array = np.rot90(S_array)  # Sを90度回転\n",
    "    for i in range(N):  # T削除パート\n",
    "        if '#' in T_array[0]:\n",
    "            break\n",
    "        T_array = np.delete(T_array, 0, 0)\n",
    "    T_array = np.rot90(T_array)  # Tを90度回転\n",
    "\n",
    "# 最終的にSとTを一番小さくした形（使ってない行、列を削りきった状態）で、片方を回転させて同じ形か確かめる\n",
    "for i in range(4):\n",
    "    if S_array.shape == T_array.shape:  # もし行、列の数が一緒で…\n",
    "        if (S_array == T_array).all():  # 同じ形なら終わり\n",
    "            print('Yes')\n",
    "            exit()\n",
    "    S_array = np.rot90(S_array)  # 違うなら回転させてみる\n",
    "\n",
    "print('No')  # ダメでした！"
   ]
  },
  {
   "cell_type": "markdown",
   "id": "7ffb2197-a3d3-4e9f-9232-0b1c53c8f6f0",
   "metadata": {},
   "source": [
    "# D - Rectangles\n",
    "https://atcoder.jp/contests/abc218/tasks/abc218_d"
   ]
  },
  {
   "cell_type": "markdown",
   "id": "c54ddacd-fbd1-4d64-b258-67d820f5463e",
   "metadata": {},
   "source": [
    "## 長方形を一意に定めるには\n",
    "* 左下の頂点と、右下の頂点を決めると長方形が一意に定まる。\n",
    "* 条件より、2000個のうちから2つの組み合わせで全探索"
   ]
  },
  {
   "cell_type": "code",
   "execution_count": null,
   "id": "0bb3efbe-4fed-4b1c-9b6d-ca0b0f57dca1",
   "metadata": {},
   "outputs": [],
   "source": [
    "# 入力部\n",
    "N = int(input())\n",
    "L = []\n",
    "S = set()\n",
    "ans = 0\n",
    "\n",
    "for i in range(N):\n",
    "    x, y = map(int, input().split())\n",
    "    L.append([x, y])\n",
    "    S.add((x, y)) # 点が存在するか否かの確認用にsetを作る\n",
    "\n",
    "for i in range(N-1):\n",
    "    for j in range(i+1, N):\n",
    "        x1, y1 = L[i]\n",
    "        x2, y2 = L[j]\n",
    "\n",
    "        if x1 != x2 and y1 != y2: # 選択した2点が水平or垂直に並んでる場合、長方形はできないのでパス\n",
    "            point3 = (x1, y2)\n",
    "            point4 = (x2, y1)\n",
    "            if (point3 in S) and (point4 in S):\n",
    "                ans += 1\n",
    "\n",
    "print(int(ans/2)) # 左下と右上で長方形を確定させるパターンと、左上と右下で長方形を確定させるパターンが存在するため最終結果を2で割る\n"
   ]
  },
  {
   "cell_type": "markdown",
   "id": "3fc8b0f1-6be1-4679-8c17-feac5b32b607",
   "metadata": {},
   "source": [
    "# E - Destruction \n",
    "https://atcoder.jp/contests/abc218/tasks/abc218_e"
   ]
  },
  {
   "cell_type": "markdown",
   "id": "2fee0b0c-f224-4ab3-a75b-e0ddba3a1bf6",
   "metadata": {},
   "source": [
    "# 要点\n",
    "## 考え方\n",
    "1. 先に道を全部外してプラスの報酬を全て受け取る\n",
    "2. 報酬がマイナスの道に関してはとりあえず繋ぐ\n",
    "3. 報酬がプラスの道を、報酬が小さい順（昇順）に並び替える\n",
    "4. まだ繋いでない（報酬がプラス）道の、一番報酬が小さい道を取り上げる。\n",
    "    * Q:道の両端の地点は既に繋がっている？\n",
    "        * 繋がっている場合→繋ぐ必要が無いので、報酬はそのまま（貰ったまま）\n",
    "        * 繋がっていない場合→繋ぐ必要があるので、報酬を返却して道を繋ぐ\n",
    "\n",
    "## UnionFind木\n",
    "https://www.slideshare.net/chokudai/union-find-49066733/1\n",
    "* 行程4の、「グラフの2点が繋がっているか？」の判定と、「グラフの2点を繋ぐ」を速く行うためのデータ構造\n",
    "* O(log n)らしい。"
   ]
  },
  {
   "cell_type": "code",
   "execution_count": null,
   "id": "d8654abb-ed29-4ecc-b6be-949b9f17d5a6",
   "metadata": {},
   "outputs": [],
   "source": [
    "N, M = map(int, input().split())\n",
    "L = []\n",
    "ans = 0\n",
    "for i in range(M):\n",
    "    A, B, C = map(int, input().split())\n",
    "    L.append([C, A, B])\n",
    "    if C > 0:\n",
    "        ans += C\n",
    " \n",
    " \n",
    "class UnionFind:\n",
    "    def __init__(self, n):\n",
    "        self.n = n\n",
    "        self.parent_size = [-1]*n\n",
    " \n",
    "    def leader(self, a):\n",
    "        if self.parent_size[a] < 0:\n",
    "            return a\n",
    "        self.parent_size[a] = self.leader(self.parent_size[a])\n",
    "        return self.parent_size[a]\n",
    " \n",
    "    def merge(self, a, b):\n",
    "        x, y = self.leader(a), self.leader(b)\n",
    "        if x == y:\n",
    "            return\n",
    "        if abs(self.parent_size[x]) < abs(self.parent_size[y]):\n",
    "            x, y = y, x\n",
    "        self.parent_size[x] += self.parent_size[y]\n",
    "        self.parent_size[y] = x\n",
    "        return\n",
    " \n",
    "    def same(self, a, b):\n",
    "        return self.leader(a) == self.leader(b)\n",
    " \n",
    "    def size(self, a):\n",
    "        return abs(self.parent_size[self.leader(a)])\n",
    " \n",
    "    def groups(self):\n",
    "        result = [[] for _ in range(self.n)]\n",
    "        for i in range(self.n):\n",
    "            result[self.leader(i)].append(i)\n",
    "        return [r for r in result if r != []]\n",
    " \n",
    " \n",
    "L.sort()\n",
    " \n",
    "uf = UnionFind(N+1)\n",
    " \n",
    "for c, a, b in L:\n",
    "    if c <= 0:\n",
    "        uf.merge(a, b)\n",
    "        continue\n",
    " \n",
    "    if not uf.same(a, b):\n",
    "        ans -= c\n",
    "        uf.merge(a,b)\n",
    " \n",
    "print(ans)"
   ]
  }
 ],
 "metadata": {
  "kernelspec": {
   "display_name": "Python 3 (ipykernel)",
   "language": "python",
   "name": "python3"
  },
  "language_info": {
   "codemirror_mode": {
    "name": "ipython",
    "version": 3
   },
   "file_extension": ".py",
   "mimetype": "text/x-python",
   "name": "python",
   "nbconvert_exporter": "python",
   "pygments_lexer": "ipython3",
   "version": "3.9.6"
  }
 },
 "nbformat": 4,
 "nbformat_minor": 5
}
